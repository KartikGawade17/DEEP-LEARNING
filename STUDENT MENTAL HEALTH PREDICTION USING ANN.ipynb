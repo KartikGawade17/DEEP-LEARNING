{
 "cells": [
  {
   "cell_type": "code",
   "execution_count": 1,
   "id": "aacc7bda",
   "metadata": {},
   "outputs": [],
   "source": [
    "import pandas as pd\n",
    "import matplotlib.pyplot as plt\n",
    "import numpy as np\n",
    "import warnings\n",
    "warnings.filterwarnings('ignore')"
   ]
  },
  {
   "cell_type": "code",
   "execution_count": 2,
   "id": "898bf43d",
   "metadata": {},
   "outputs": [
    {
     "data": {
      "text/html": [
       "<div>\n",
       "<style scoped>\n",
       "    .dataframe tbody tr th:only-of-type {\n",
       "        vertical-align: middle;\n",
       "    }\n",
       "\n",
       "    .dataframe tbody tr th {\n",
       "        vertical-align: top;\n",
       "    }\n",
       "\n",
       "    .dataframe thead th {\n",
       "        text-align: right;\n",
       "    }\n",
       "</style>\n",
       "<table border=\"1\" class=\"dataframe\">\n",
       "  <thead>\n",
       "    <tr style=\"text-align: right;\">\n",
       "      <th></th>\n",
       "      <th>Timestamp</th>\n",
       "      <th>Choose your gender</th>\n",
       "      <th>Age</th>\n",
       "      <th>What is your course?</th>\n",
       "      <th>Your current year of Study</th>\n",
       "      <th>What is your CGPA?</th>\n",
       "      <th>Marital status</th>\n",
       "      <th>Do you have Depression?</th>\n",
       "      <th>Do you have Anxiety?</th>\n",
       "      <th>Do you have Panic attack?</th>\n",
       "      <th>Did you seek any specialist for a treatment?</th>\n",
       "    </tr>\n",
       "  </thead>\n",
       "  <tbody>\n",
       "    <tr>\n",
       "      <th>0</th>\n",
       "      <td>08-07-2020 12:02</td>\n",
       "      <td>Female</td>\n",
       "      <td>18</td>\n",
       "      <td>Engineering</td>\n",
       "      <td>year 1</td>\n",
       "      <td>3.00 - 3.49</td>\n",
       "      <td>No</td>\n",
       "      <td>Yes</td>\n",
       "      <td>No</td>\n",
       "      <td>Yes</td>\n",
       "      <td>No</td>\n",
       "    </tr>\n",
       "    <tr>\n",
       "      <th>1</th>\n",
       "      <td>08-07-2020 12:04</td>\n",
       "      <td>Male</td>\n",
       "      <td>21</td>\n",
       "      <td>Islamic education</td>\n",
       "      <td>year 2</td>\n",
       "      <td>3.00 - 3.49</td>\n",
       "      <td>No</td>\n",
       "      <td>No</td>\n",
       "      <td>Yes</td>\n",
       "      <td>No</td>\n",
       "      <td>No</td>\n",
       "    </tr>\n",
       "    <tr>\n",
       "      <th>2</th>\n",
       "      <td>08-07-2020 12:05</td>\n",
       "      <td>Male</td>\n",
       "      <td>19</td>\n",
       "      <td>BIT</td>\n",
       "      <td>Year 1</td>\n",
       "      <td>3.00 - 3.49</td>\n",
       "      <td>No</td>\n",
       "      <td>Yes</td>\n",
       "      <td>Yes</td>\n",
       "      <td>Yes</td>\n",
       "      <td>No</td>\n",
       "    </tr>\n",
       "    <tr>\n",
       "      <th>3</th>\n",
       "      <td>08-07-2020 12:06</td>\n",
       "      <td>Female</td>\n",
       "      <td>22</td>\n",
       "      <td>Laws</td>\n",
       "      <td>year 3</td>\n",
       "      <td>3.00 - 3.49</td>\n",
       "      <td>Yes</td>\n",
       "      <td>Yes</td>\n",
       "      <td>No</td>\n",
       "      <td>No</td>\n",
       "      <td>No</td>\n",
       "    </tr>\n",
       "    <tr>\n",
       "      <th>4</th>\n",
       "      <td>08-07-2020 12:13</td>\n",
       "      <td>Male</td>\n",
       "      <td>23</td>\n",
       "      <td>Mathemathics</td>\n",
       "      <td>year 4</td>\n",
       "      <td>3.00 - 3.49</td>\n",
       "      <td>No</td>\n",
       "      <td>No</td>\n",
       "      <td>No</td>\n",
       "      <td>No</td>\n",
       "      <td>No</td>\n",
       "    </tr>\n",
       "  </tbody>\n",
       "</table>\n",
       "</div>"
      ],
      "text/plain": [
       "          Timestamp Choose your gender  Age What is your course?  \\\n",
       "0  08-07-2020 12:02             Female   18          Engineering   \n",
       "1  08-07-2020 12:04               Male   21    Islamic education   \n",
       "2  08-07-2020 12:05               Male   19                  BIT   \n",
       "3  08-07-2020 12:06             Female   22                 Laws   \n",
       "4  08-07-2020 12:13               Male   23         Mathemathics   \n",
       "\n",
       "  Your current year of Study What is your CGPA? Marital status  \\\n",
       "0                     year 1        3.00 - 3.49             No   \n",
       "1                     year 2        3.00 - 3.49             No   \n",
       "2                     Year 1        3.00 - 3.49             No   \n",
       "3                     year 3        3.00 - 3.49            Yes   \n",
       "4                     year 4        3.00 - 3.49             No   \n",
       "\n",
       "  Do you have Depression? Do you have Anxiety? Do you have Panic attack?  \\\n",
       "0                     Yes                   No                       Yes   \n",
       "1                      No                  Yes                        No   \n",
       "2                     Yes                  Yes                       Yes   \n",
       "3                     Yes                   No                        No   \n",
       "4                      No                   No                        No   \n",
       "\n",
       "  Did you seek any specialist for a treatment?  \n",
       "0                                           No  \n",
       "1                                           No  \n",
       "2                                           No  \n",
       "3                                           No  \n",
       "4                                           No  "
      ]
     },
     "execution_count": 2,
     "metadata": {},
     "output_type": "execute_result"
    }
   ],
   "source": [
    "data=pd.read_csv('Student Mental health.csv')\n",
    "data.head()"
   ]
  },
  {
   "cell_type": "code",
   "execution_count": 3,
   "id": "ae7d373e",
   "metadata": {},
   "outputs": [
    {
     "data": {
      "text/plain": [
       "Index(['Timestamp', 'Choose your gender', 'Age', 'What is your course?',\n",
       "       'Your current year of Study', 'What is your CGPA?', 'Marital status',\n",
       "       'Do you have Depression?', 'Do you have Anxiety?',\n",
       "       'Do you have Panic attack?',\n",
       "       'Did you seek any specialist for a treatment?'],\n",
       "      dtype='object')"
      ]
     },
     "execution_count": 3,
     "metadata": {},
     "output_type": "execute_result"
    }
   ],
   "source": [
    "data.columns"
   ]
  },
  {
   "cell_type": "code",
   "execution_count": 4,
   "id": "d266f411",
   "metadata": {},
   "outputs": [
    {
     "data": {
      "text/plain": [
       "Timestamp                                       0\n",
       "Choose your gender                              0\n",
       "Age                                             0\n",
       "What is your course?                            0\n",
       "Your current year of Study                      0\n",
       "What is your CGPA?                              0\n",
       "Marital status                                  0\n",
       "Do you have Depression?                         0\n",
       "Do you have Anxiety?                            0\n",
       "Do you have Panic attack?                       0\n",
       "Did you seek any specialist for a treatment?    0\n",
       "dtype: int64"
      ]
     },
     "execution_count": 4,
     "metadata": {},
     "output_type": "execute_result"
    }
   ],
   "source": [
    "data.isnull().sum()"
   ]
  },
  {
   "cell_type": "code",
   "execution_count": 5,
   "id": "cc381538",
   "metadata": {},
   "outputs": [],
   "source": [
    "data=data.drop(['Timestamp'],axis=1)"
   ]
  },
  {
   "cell_type": "code",
   "execution_count": 6,
   "id": "34663339",
   "metadata": {},
   "outputs": [
    {
     "data": {
      "text/plain": [
       "Choose your gender                              object\n",
       "Age                                              int64\n",
       "What is your course?                            object\n",
       "Your current year of Study                      object\n",
       "What is your CGPA?                              object\n",
       "Marital status                                  object\n",
       "Do you have Depression?                         object\n",
       "Do you have Anxiety?                            object\n",
       "Do you have Panic attack?                       object\n",
       "Did you seek any specialist for a treatment?    object\n",
       "dtype: object"
      ]
     },
     "execution_count": 6,
     "metadata": {},
     "output_type": "execute_result"
    }
   ],
   "source": [
    "data.dtypes"
   ]
  },
  {
   "cell_type": "code",
   "execution_count": 7,
   "id": "6547afe5",
   "metadata": {},
   "outputs": [],
   "source": [
    "def unique_col():\n",
    "    for column in data:\n",
    "        if data[column].dtype == 'object':\n",
    "            print(f\"{column} : {data[column].unique()}\")"
   ]
  },
  {
   "cell_type": "code",
   "execution_count": 8,
   "id": "8094cae6",
   "metadata": {},
   "outputs": [],
   "source": [
    "data['Your current year of Study'].replace({'Year 1':'year 1','Year 2':'year 2','Year 3':'year 3'},inplace=True)"
   ]
  },
  {
   "cell_type": "code",
   "execution_count": 9,
   "id": "99eba169",
   "metadata": {},
   "outputs": [
    {
     "name": "stdout",
     "output_type": "stream",
     "text": [
      "Choose your gender : ['Female' 'Male']\n",
      "What is your course? : ['Engineering' 'Islamic education' 'BIT' 'Laws' 'Mathemathics'\n",
      " 'Pendidikan islam' 'BCS' 'Human Resources' 'Irkhs' 'Psychology' 'KENMS'\n",
      " 'Accounting ' 'ENM' 'Marine science' 'KOE' 'Banking Studies'\n",
      " 'Business Administration' 'Law' 'KIRKHS' 'Usuluddin ' 'TAASL' 'Engine'\n",
      " 'ALA' 'Biomedical science' 'koe' 'Kirkhs' 'BENL' 'Benl' 'IT' 'CTS'\n",
      " 'engin' 'Econs' 'MHSC' 'Malcom' 'Kop' 'Human Sciences ' 'Biotechnology'\n",
      " 'Communication ' 'Diploma Nursing' 'Pendidikan Islam ' 'Radiography'\n",
      " 'psychology' 'Fiqh fatwa ' 'DIPLOMA TESL' 'Koe' 'Fiqh'\n",
      " 'Islamic Education' 'Nursing ' 'Pendidikan Islam']\n",
      "Your current year of Study : ['year 1' 'year 2' 'year 3' 'year 4']\n",
      "What is your CGPA? : ['3.00 - 3.49' '3.50 - 4.00' '3.50 - 4.00 ' '2.50 - 2.99' '2.00 - 2.49'\n",
      " '0 - 1.99']\n",
      "Marital status : ['No' 'Yes']\n",
      "Do you have Depression? : ['Yes' 'No']\n",
      "Do you have Anxiety? : ['No' 'Yes']\n",
      "Do you have Panic attack? : ['Yes' 'No']\n",
      "Did you seek any specialist for a treatment? : ['No' 'Yes']\n"
     ]
    }
   ],
   "source": [
    "unique_col()"
   ]
  },
  {
   "cell_type": "code",
   "execution_count": 10,
   "id": "d62e0086",
   "metadata": {},
   "outputs": [
    {
     "data": {
      "text/html": [
       "<div>\n",
       "<style scoped>\n",
       "    .dataframe tbody tr th:only-of-type {\n",
       "        vertical-align: middle;\n",
       "    }\n",
       "\n",
       "    .dataframe tbody tr th {\n",
       "        vertical-align: top;\n",
       "    }\n",
       "\n",
       "    .dataframe thead th {\n",
       "        text-align: right;\n",
       "    }\n",
       "</style>\n",
       "<table border=\"1\" class=\"dataframe\">\n",
       "  <thead>\n",
       "    <tr style=\"text-align: right;\">\n",
       "      <th></th>\n",
       "      <th>Choose your gender</th>\n",
       "      <th>Age</th>\n",
       "      <th>What is your course?</th>\n",
       "      <th>Your current year of Study</th>\n",
       "      <th>What is your CGPA?</th>\n",
       "      <th>Marital status</th>\n",
       "      <th>Do you have Depression?</th>\n",
       "      <th>Do you have Anxiety?</th>\n",
       "      <th>Do you have Panic attack?</th>\n",
       "      <th>Did you seek any specialist for a treatment?</th>\n",
       "    </tr>\n",
       "  </thead>\n",
       "  <tbody>\n",
       "    <tr>\n",
       "      <th>0</th>\n",
       "      <td>Female</td>\n",
       "      <td>18</td>\n",
       "      <td>Engineering</td>\n",
       "      <td>year 1</td>\n",
       "      <td>3.00 - 3.49</td>\n",
       "      <td>No</td>\n",
       "      <td>Yes</td>\n",
       "      <td>No</td>\n",
       "      <td>Yes</td>\n",
       "      <td>No</td>\n",
       "    </tr>\n",
       "    <tr>\n",
       "      <th>1</th>\n",
       "      <td>Male</td>\n",
       "      <td>21</td>\n",
       "      <td>Islamic education</td>\n",
       "      <td>year 2</td>\n",
       "      <td>3.00 - 3.49</td>\n",
       "      <td>No</td>\n",
       "      <td>No</td>\n",
       "      <td>Yes</td>\n",
       "      <td>No</td>\n",
       "      <td>No</td>\n",
       "    </tr>\n",
       "  </tbody>\n",
       "</table>\n",
       "</div>"
      ],
      "text/plain": [
       "  Choose your gender  Age What is your course? Your current year of Study  \\\n",
       "0             Female   18          Engineering                     year 1   \n",
       "1               Male   21    Islamic education                     year 2   \n",
       "\n",
       "  What is your CGPA? Marital status Do you have Depression?  \\\n",
       "0        3.00 - 3.49             No                     Yes   \n",
       "1        3.00 - 3.49             No                      No   \n",
       "\n",
       "  Do you have Anxiety? Do you have Panic attack?  \\\n",
       "0                   No                       Yes   \n",
       "1                  Yes                        No   \n",
       "\n",
       "  Did you seek any specialist for a treatment?  \n",
       "0                                           No  \n",
       "1                                           No  "
      ]
     },
     "execution_count": 10,
     "metadata": {},
     "output_type": "execute_result"
    }
   ],
   "source": [
    "data.head(2)"
   ]
  },
  {
   "cell_type": "code",
   "execution_count": 15,
   "id": "19903090",
   "metadata": {},
   "outputs": [],
   "source": [
    "from sklearn.preprocessing import LabelEncoder"
   ]
  },
  {
   "cell_type": "code",
   "execution_count": 16,
   "id": "dbd2e248",
   "metadata": {},
   "outputs": [],
   "source": [
    "lb=LabelEncoder()"
   ]
  },
  {
   "cell_type": "code",
   "execution_count": 17,
   "id": "9397a609",
   "metadata": {},
   "outputs": [],
   "source": [
    "for element in data:\n",
    "    if data[element].dtype=='object':\n",
    "        data[element]=lb.fit_transform(data[element])"
   ]
  },
  {
   "cell_type": "code",
   "execution_count": 18,
   "id": "a0ec09ba",
   "metadata": {},
   "outputs": [
    {
     "data": {
      "text/html": [
       "<div>\n",
       "<style scoped>\n",
       "    .dataframe tbody tr th:only-of-type {\n",
       "        vertical-align: middle;\n",
       "    }\n",
       "\n",
       "    .dataframe tbody tr th {\n",
       "        vertical-align: top;\n",
       "    }\n",
       "\n",
       "    .dataframe thead th {\n",
       "        text-align: right;\n",
       "    }\n",
       "</style>\n",
       "<table border=\"1\" class=\"dataframe\">\n",
       "  <thead>\n",
       "    <tr style=\"text-align: right;\">\n",
       "      <th></th>\n",
       "      <th>Choose your gender</th>\n",
       "      <th>Age</th>\n",
       "      <th>What is your course?</th>\n",
       "      <th>Your current year of Study</th>\n",
       "      <th>What is your CGPA?</th>\n",
       "      <th>Marital status</th>\n",
       "      <th>Do you have Depression?</th>\n",
       "      <th>Do you have Anxiety?</th>\n",
       "      <th>Do you have Panic attack?</th>\n",
       "      <th>Did you seek any specialist for a treatment?</th>\n",
       "    </tr>\n",
       "  </thead>\n",
       "  <tbody>\n",
       "    <tr>\n",
       "      <th>0</th>\n",
       "      <td>0</td>\n",
       "      <td>18</td>\n",
       "      <td>17</td>\n",
       "      <td>0</td>\n",
       "      <td>3</td>\n",
       "      <td>0</td>\n",
       "      <td>1</td>\n",
       "      <td>0</td>\n",
       "      <td>1</td>\n",
       "      <td>0</td>\n",
       "    </tr>\n",
       "    <tr>\n",
       "      <th>1</th>\n",
       "      <td>1</td>\n",
       "      <td>21</td>\n",
       "      <td>25</td>\n",
       "      <td>1</td>\n",
       "      <td>3</td>\n",
       "      <td>0</td>\n",
       "      <td>0</td>\n",
       "      <td>1</td>\n",
       "      <td>0</td>\n",
       "      <td>0</td>\n",
       "    </tr>\n",
       "    <tr>\n",
       "      <th>2</th>\n",
       "      <td>1</td>\n",
       "      <td>19</td>\n",
       "      <td>4</td>\n",
       "      <td>0</td>\n",
       "      <td>3</td>\n",
       "      <td>0</td>\n",
       "      <td>1</td>\n",
       "      <td>1</td>\n",
       "      <td>1</td>\n",
       "      <td>0</td>\n",
       "    </tr>\n",
       "    <tr>\n",
       "      <th>3</th>\n",
       "      <td>0</td>\n",
       "      <td>22</td>\n",
       "      <td>33</td>\n",
       "      <td>2</td>\n",
       "      <td>3</td>\n",
       "      <td>1</td>\n",
       "      <td>1</td>\n",
       "      <td>0</td>\n",
       "      <td>0</td>\n",
       "      <td>0</td>\n",
       "    </tr>\n",
       "    <tr>\n",
       "      <th>4</th>\n",
       "      <td>1</td>\n",
       "      <td>23</td>\n",
       "      <td>37</td>\n",
       "      <td>3</td>\n",
       "      <td>3</td>\n",
       "      <td>0</td>\n",
       "      <td>0</td>\n",
       "      <td>0</td>\n",
       "      <td>0</td>\n",
       "      <td>0</td>\n",
       "    </tr>\n",
       "  </tbody>\n",
       "</table>\n",
       "</div>"
      ],
      "text/plain": [
       "   Choose your gender  Age  What is your course?  Your current year of Study  \\\n",
       "0                   0   18                    17                           0   \n",
       "1                   1   21                    25                           1   \n",
       "2                   1   19                     4                           0   \n",
       "3                   0   22                    33                           2   \n",
       "4                   1   23                    37                           3   \n",
       "\n",
       "   What is your CGPA?  Marital status  Do you have Depression?  \\\n",
       "0                   3               0                        1   \n",
       "1                   3               0                        0   \n",
       "2                   3               0                        1   \n",
       "3                   3               1                        1   \n",
       "4                   3               0                        0   \n",
       "\n",
       "   Do you have Anxiety?  Do you have Panic attack?  \\\n",
       "0                     0                          1   \n",
       "1                     1                          0   \n",
       "2                     1                          1   \n",
       "3                     0                          0   \n",
       "4                     0                          0   \n",
       "\n",
       "   Did you seek any specialist for a treatment?  \n",
       "0                                             0  \n",
       "1                                             0  \n",
       "2                                             0  \n",
       "3                                             0  \n",
       "4                                             0  "
      ]
     },
     "execution_count": 18,
     "metadata": {},
     "output_type": "execute_result"
    }
   ],
   "source": [
    "data.head()"
   ]
  },
  {
   "cell_type": "code",
   "execution_count": 29,
   "id": "47c69ce3",
   "metadata": {},
   "outputs": [],
   "source": [
    "cols_to_scale=['Age','What is your course?']"
   ]
  },
  {
   "cell_type": "code",
   "execution_count": 30,
   "id": "47fa5545",
   "metadata": {},
   "outputs": [],
   "source": [
    "data[cols_to_scale]=data[cols_to_scale]/100"
   ]
  },
  {
   "cell_type": "code",
   "execution_count": 31,
   "id": "44473396",
   "metadata": {},
   "outputs": [
    {
     "data": {
      "text/html": [
       "<div>\n",
       "<style scoped>\n",
       "    .dataframe tbody tr th:only-of-type {\n",
       "        vertical-align: middle;\n",
       "    }\n",
       "\n",
       "    .dataframe tbody tr th {\n",
       "        vertical-align: top;\n",
       "    }\n",
       "\n",
       "    .dataframe thead th {\n",
       "        text-align: right;\n",
       "    }\n",
       "</style>\n",
       "<table border=\"1\" class=\"dataframe\">\n",
       "  <thead>\n",
       "    <tr style=\"text-align: right;\">\n",
       "      <th></th>\n",
       "      <th>Choose your gender</th>\n",
       "      <th>Age</th>\n",
       "      <th>What is your course?</th>\n",
       "      <th>Your current year of Study</th>\n",
       "      <th>What is your CGPA?</th>\n",
       "      <th>Marital status</th>\n",
       "      <th>Do you have Depression?</th>\n",
       "      <th>Do you have Anxiety?</th>\n",
       "      <th>Do you have Panic attack?</th>\n",
       "      <th>Did you seek any specialist for a treatment?</th>\n",
       "    </tr>\n",
       "  </thead>\n",
       "  <tbody>\n",
       "    <tr>\n",
       "      <th>0</th>\n",
       "      <td>0</td>\n",
       "      <td>0.18</td>\n",
       "      <td>0.17</td>\n",
       "      <td>0</td>\n",
       "      <td>3</td>\n",
       "      <td>0</td>\n",
       "      <td>1</td>\n",
       "      <td>0</td>\n",
       "      <td>1</td>\n",
       "      <td>0</td>\n",
       "    </tr>\n",
       "    <tr>\n",
       "      <th>1</th>\n",
       "      <td>1</td>\n",
       "      <td>0.21</td>\n",
       "      <td>0.25</td>\n",
       "      <td>1</td>\n",
       "      <td>3</td>\n",
       "      <td>0</td>\n",
       "      <td>0</td>\n",
       "      <td>1</td>\n",
       "      <td>0</td>\n",
       "      <td>0</td>\n",
       "    </tr>\n",
       "  </tbody>\n",
       "</table>\n",
       "</div>"
      ],
      "text/plain": [
       "   Choose your gender   Age  What is your course?  Your current year of Study  \\\n",
       "0                   0  0.18                  0.17                           0   \n",
       "1                   1  0.21                  0.25                           1   \n",
       "\n",
       "   What is your CGPA?  Marital status  Do you have Depression?  \\\n",
       "0                   3               0                        1   \n",
       "1                   3               0                        0   \n",
       "\n",
       "   Do you have Anxiety?  Do you have Panic attack?  \\\n",
       "0                     0                          1   \n",
       "1                     1                          0   \n",
       "\n",
       "   Did you seek any specialist for a treatment?  \n",
       "0                                             0  \n",
       "1                                             0  "
      ]
     },
     "execution_count": 31,
     "metadata": {},
     "output_type": "execute_result"
    }
   ],
   "source": [
    "data.head(2)"
   ]
  },
  {
   "cell_type": "code",
   "execution_count": 32,
   "id": "3dadddec",
   "metadata": {},
   "outputs": [
    {
     "data": {
      "text/plain": [
       "array([3, 4, 5, 2, 1, 0])"
      ]
     },
     "execution_count": 32,
     "metadata": {},
     "output_type": "execute_result"
    }
   ],
   "source": [
    "data['What is your CGPA?'].unique()"
   ]
  },
  {
   "cell_type": "code",
   "execution_count": 33,
   "id": "b9ff2468",
   "metadata": {},
   "outputs": [],
   "source": [
    "x=data.drop(['Did you seek any specialist for a treatment?'],axis=1)\n",
    "y=data[['Did you seek any specialist for a treatment?']]"
   ]
  },
  {
   "cell_type": "code",
   "execution_count": 34,
   "id": "1e3c8c56",
   "metadata": {},
   "outputs": [
    {
     "data": {
      "text/plain": [
       "(101, 9)"
      ]
     },
     "execution_count": 34,
     "metadata": {},
     "output_type": "execute_result"
    }
   ],
   "source": [
    "x.shape"
   ]
  },
  {
   "cell_type": "code",
   "execution_count": 35,
   "id": "0855f2bc",
   "metadata": {},
   "outputs": [
    {
     "data": {
      "text/plain": [
       "(101, 1)"
      ]
     },
     "execution_count": 35,
     "metadata": {},
     "output_type": "execute_result"
    }
   ],
   "source": [
    "y.shape"
   ]
  },
  {
   "cell_type": "code",
   "execution_count": 36,
   "id": "e01fde73",
   "metadata": {},
   "outputs": [],
   "source": [
    "from sklearn.model_selection import train_test_split"
   ]
  },
  {
   "cell_type": "code",
   "execution_count": 37,
   "id": "c0ae81c2",
   "metadata": {},
   "outputs": [],
   "source": [
    "x_train, x_test, y_train, y_test = train_test_split(x,y,test_size=0.2,stratify=y)"
   ]
  },
  {
   "cell_type": "code",
   "execution_count": 38,
   "id": "7375a087",
   "metadata": {},
   "outputs": [
    {
     "data": {
      "text/plain": [
       "80"
      ]
     },
     "execution_count": 38,
     "metadata": {},
     "output_type": "execute_result"
    }
   ],
   "source": [
    "len(x_train)"
   ]
  },
  {
   "cell_type": "code",
   "execution_count": 39,
   "id": "14007965",
   "metadata": {},
   "outputs": [
    {
     "data": {
      "text/plain": [
       "21"
      ]
     },
     "execution_count": 39,
     "metadata": {},
     "output_type": "execute_result"
    }
   ],
   "source": [
    "len(x_test)"
   ]
  },
  {
   "cell_type": "code",
   "execution_count": 27,
   "id": "7367fde9",
   "metadata": {},
   "outputs": [
    {
     "name": "stdout",
     "output_type": "stream",
     "text": [
      "WARNING:tensorflow:From C:\\Users\\karti\\anaconda3\\Lib\\site-packages\\keras\\src\\losses.py:2976: The name tf.losses.sparse_softmax_cross_entropy is deprecated. Please use tf.compat.v1.losses.sparse_softmax_cross_entropy instead.\n",
      "\n"
     ]
    }
   ],
   "source": [
    "import tensorflow as tf"
   ]
  },
  {
   "cell_type": "code",
   "execution_count": 28,
   "id": "b49d91d1",
   "metadata": {},
   "outputs": [],
   "source": [
    "from tensorflow import keras"
   ]
  },
  {
   "cell_type": "code",
   "execution_count": 41,
   "id": "194a0ecc",
   "metadata": {},
   "outputs": [
    {
     "name": "stdout",
     "output_type": "stream",
     "text": [
      "WARNING:tensorflow:From C:\\Users\\karti\\anaconda3\\Lib\\site-packages\\keras\\src\\backend.py:873: The name tf.get_default_graph is deprecated. Please use tf.compat.v1.get_default_graph instead.\n",
      "\n"
     ]
    }
   ],
   "source": [
    "model=keras.Sequential([\n",
    "    keras.layers.Dense(10, activation='relu'),\n",
    "    keras.layers.Dense(1, input_shape=(9,),activation='sigmoid',bias_initializer='zeros',kernel_initializer='ones')\n",
    "])"
   ]
  },
  {
   "cell_type": "code",
   "execution_count": 42,
   "id": "a8f0f1aa",
   "metadata": {},
   "outputs": [
    {
     "name": "stdout",
     "output_type": "stream",
     "text": [
      "WARNING:tensorflow:From C:\\Users\\karti\\anaconda3\\Lib\\site-packages\\keras\\src\\optimizers\\__init__.py:309: The name tf.train.Optimizer is deprecated. Please use tf.compat.v1.train.Optimizer instead.\n",
      "\n"
     ]
    }
   ],
   "source": [
    "model.compile(optimizer='adam',loss='binary_crossentropy',metrics=['accuracy'])"
   ]
  },
  {
   "cell_type": "code",
   "execution_count": 57,
   "id": "18aa3603",
   "metadata": {},
   "outputs": [
    {
     "name": "stdout",
     "output_type": "stream",
     "text": [
      "Epoch 1/200\n",
      "3/3 [==============================] - 0s 3ms/step - loss: 0.3362 - accuracy: 0.9500\n",
      "Epoch 2/200\n",
      "3/3 [==============================] - 0s 5ms/step - loss: 0.3359 - accuracy: 0.9500\n",
      "Epoch 3/200\n",
      "3/3 [==============================] - 0s 5ms/step - loss: 0.3355 - accuracy: 0.9500\n",
      "Epoch 4/200\n",
      "3/3 [==============================] - 0s 6ms/step - loss: 0.3351 - accuracy: 0.9500\n",
      "Epoch 5/200\n",
      "3/3 [==============================] - 0s 5ms/step - loss: 0.3347 - accuracy: 0.9500\n",
      "Epoch 6/200\n",
      "3/3 [==============================] - 0s 3ms/step - loss: 0.3343 - accuracy: 0.9500\n",
      "Epoch 7/200\n",
      "3/3 [==============================] - 0s 5ms/step - loss: 0.3339 - accuracy: 0.9500\n",
      "Epoch 8/200\n",
      "3/3 [==============================] - 0s 5ms/step - loss: 0.3335 - accuracy: 0.9500\n",
      "Epoch 9/200\n",
      "3/3 [==============================] - 0s 4ms/step - loss: 0.3331 - accuracy: 0.9500\n",
      "Epoch 10/200\n",
      "3/3 [==============================] - 0s 4ms/step - loss: 0.3328 - accuracy: 0.9500\n",
      "Epoch 11/200\n",
      "3/3 [==============================] - 0s 5ms/step - loss: 0.3323 - accuracy: 0.9500\n",
      "Epoch 12/200\n",
      "3/3 [==============================] - 0s 4ms/step - loss: 0.3320 - accuracy: 0.9500\n",
      "Epoch 13/200\n",
      "3/3 [==============================] - 0s 3ms/step - loss: 0.3316 - accuracy: 0.9500\n",
      "Epoch 14/200\n",
      "3/3 [==============================] - 0s 4ms/step - loss: 0.3312 - accuracy: 0.9500\n",
      "Epoch 15/200\n",
      "3/3 [==============================] - 0s 4ms/step - loss: 0.3308 - accuracy: 0.9500\n",
      "Epoch 16/200\n",
      "3/3 [==============================] - 0s 4ms/step - loss: 0.3304 - accuracy: 0.9500\n",
      "Epoch 17/200\n",
      "3/3 [==============================] - 0s 4ms/step - loss: 0.3301 - accuracy: 0.9500\n",
      "Epoch 18/200\n",
      "3/3 [==============================] - 0s 4ms/step - loss: 0.3297 - accuracy: 0.9500\n",
      "Epoch 19/200\n",
      "3/3 [==============================] - 0s 5ms/step - loss: 0.3293 - accuracy: 0.9500\n",
      "Epoch 20/200\n",
      "3/3 [==============================] - 0s 4ms/step - loss: 0.3289 - accuracy: 0.9500\n",
      "Epoch 21/200\n",
      "3/3 [==============================] - 0s 4ms/step - loss: 0.3285 - accuracy: 0.9500\n",
      "Epoch 22/200\n",
      "3/3 [==============================] - 0s 4ms/step - loss: 0.3282 - accuracy: 0.9500\n",
      "Epoch 23/200\n",
      "3/3 [==============================] - 0s 4ms/step - loss: 0.3278 - accuracy: 0.9500\n",
      "Epoch 24/200\n",
      "3/3 [==============================] - 0s 4ms/step - loss: 0.3274 - accuracy: 0.9500\n",
      "Epoch 25/200\n",
      "3/3 [==============================] - 0s 5ms/step - loss: 0.3270 - accuracy: 0.9500\n",
      "Epoch 26/200\n",
      "3/3 [==============================] - 0s 4ms/step - loss: 0.3266 - accuracy: 0.9500\n",
      "Epoch 27/200\n",
      "3/3 [==============================] - 0s 4ms/step - loss: 0.3263 - accuracy: 0.9500\n",
      "Epoch 28/200\n",
      "3/3 [==============================] - 0s 4ms/step - loss: 0.3259 - accuracy: 0.9500\n",
      "Epoch 29/200\n",
      "3/3 [==============================] - 0s 4ms/step - loss: 0.3255 - accuracy: 0.9500\n",
      "Epoch 30/200\n",
      "3/3 [==============================] - 0s 4ms/step - loss: 0.3252 - accuracy: 0.9500\n",
      "Epoch 31/200\n",
      "3/3 [==============================] - 0s 3ms/step - loss: 0.3248 - accuracy: 0.9500\n",
      "Epoch 32/200\n",
      "3/3 [==============================] - 0s 3ms/step - loss: 0.3244 - accuracy: 0.9500\n",
      "Epoch 33/200\n",
      "3/3 [==============================] - 0s 4ms/step - loss: 0.3241 - accuracy: 0.9500\n",
      "Epoch 34/200\n",
      "3/3 [==============================] - 0s 3ms/step - loss: 0.3237 - accuracy: 0.9500\n",
      "Epoch 35/200\n",
      "3/3 [==============================] - 0s 3ms/step - loss: 0.3233 - accuracy: 0.9500\n",
      "Epoch 36/200\n",
      "3/3 [==============================] - 0s 4ms/step - loss: 0.3230 - accuracy: 0.9500\n",
      "Epoch 37/200\n",
      "3/3 [==============================] - 0s 4ms/step - loss: 0.3226 - accuracy: 0.9500\n",
      "Epoch 38/200\n",
      "3/3 [==============================] - 0s 4ms/step - loss: 0.3222 - accuracy: 0.9500\n",
      "Epoch 39/200\n",
      "3/3 [==============================] - 0s 4ms/step - loss: 0.3219 - accuracy: 0.9500\n",
      "Epoch 40/200\n",
      "3/3 [==============================] - 0s 4ms/step - loss: 0.3215 - accuracy: 0.9500\n",
      "Epoch 41/200\n",
      "3/3 [==============================] - 0s 3ms/step - loss: 0.3212 - accuracy: 0.9500\n",
      "Epoch 42/200\n",
      "3/3 [==============================] - 0s 4ms/step - loss: 0.3208 - accuracy: 0.9500\n",
      "Epoch 43/200\n",
      "3/3 [==============================] - 0s 4ms/step - loss: 0.3204 - accuracy: 0.9500\n",
      "Epoch 44/200\n",
      "3/3 [==============================] - 0s 3ms/step - loss: 0.3201 - accuracy: 0.9500\n",
      "Epoch 45/200\n",
      "3/3 [==============================] - 0s 4ms/step - loss: 0.3197 - accuracy: 0.9500\n",
      "Epoch 46/200\n",
      "3/3 [==============================] - 0s 3ms/step - loss: 0.3194 - accuracy: 0.9500\n",
      "Epoch 47/200\n",
      "3/3 [==============================] - 0s 4ms/step - loss: 0.3190 - accuracy: 0.9500\n",
      "Epoch 48/200\n",
      "3/3 [==============================] - 0s 4ms/step - loss: 0.3186 - accuracy: 0.9500\n",
      "Epoch 49/200\n",
      "3/3 [==============================] - 0s 4ms/step - loss: 0.3183 - accuracy: 0.9500\n",
      "Epoch 50/200\n",
      "3/3 [==============================] - 0s 4ms/step - loss: 0.3179 - accuracy: 0.9500\n",
      "Epoch 51/200\n",
      "3/3 [==============================] - 0s 4ms/step - loss: 0.3176 - accuracy: 0.9500\n",
      "Epoch 52/200\n",
      "3/3 [==============================] - 0s 2ms/step - loss: 0.3172 - accuracy: 0.9500\n",
      "Epoch 53/200\n",
      "3/3 [==============================] - 0s 3ms/step - loss: 0.3168 - accuracy: 0.9500\n",
      "Epoch 54/200\n",
      "3/3 [==============================] - 0s 3ms/step - loss: 0.3165 - accuracy: 0.9500\n",
      "Epoch 55/200\n",
      "3/3 [==============================] - 0s 4ms/step - loss: 0.3161 - accuracy: 0.9500\n",
      "Epoch 56/200\n",
      "3/3 [==============================] - 0s 4ms/step - loss: 0.3158 - accuracy: 0.9500\n",
      "Epoch 57/200\n",
      "3/3 [==============================] - 0s 4ms/step - loss: 0.3154 - accuracy: 0.9500\n",
      "Epoch 58/200\n",
      "3/3 [==============================] - 0s 5ms/step - loss: 0.3150 - accuracy: 0.9500\n",
      "Epoch 59/200\n",
      "3/3 [==============================] - 0s 4ms/step - loss: 0.3147 - accuracy: 0.9500\n",
      "Epoch 60/200\n",
      "3/3 [==============================] - 0s 5ms/step - loss: 0.3143 - accuracy: 0.9500\n",
      "Epoch 61/200\n",
      "3/3 [==============================] - 0s 4ms/step - loss: 0.3140 - accuracy: 0.9500\n",
      "Epoch 62/200\n",
      "3/3 [==============================] - 0s 4ms/step - loss: 0.3136 - accuracy: 0.9500\n",
      "Epoch 63/200\n",
      "3/3 [==============================] - 0s 4ms/step - loss: 0.3133 - accuracy: 0.9500\n",
      "Epoch 64/200\n",
      "3/3 [==============================] - 0s 4ms/step - loss: 0.3129 - accuracy: 0.9500\n",
      "Epoch 65/200\n",
      "3/3 [==============================] - 0s 3ms/step - loss: 0.3126 - accuracy: 0.9500\n",
      "Epoch 66/200\n",
      "3/3 [==============================] - 0s 4ms/step - loss: 0.3122 - accuracy: 0.9500\n",
      "Epoch 67/200\n",
      "3/3 [==============================] - 0s 5ms/step - loss: 0.3119 - accuracy: 0.9500\n",
      "Epoch 68/200\n",
      "3/3 [==============================] - 0s 3ms/step - loss: 0.3115 - accuracy: 0.9500\n",
      "Epoch 69/200\n",
      "3/3 [==============================] - 0s 4ms/step - loss: 0.3112 - accuracy: 0.9500\n",
      "Epoch 70/200\n",
      "3/3 [==============================] - 0s 4ms/step - loss: 0.3108 - accuracy: 0.9500\n",
      "Epoch 71/200\n",
      "3/3 [==============================] - 0s 4ms/step - loss: 0.3105 - accuracy: 0.9500\n",
      "Epoch 72/200\n",
      "3/3 [==============================] - 0s 3ms/step - loss: 0.3101 - accuracy: 0.9500\n",
      "Epoch 73/200\n",
      "3/3 [==============================] - 0s 4ms/step - loss: 0.3098 - accuracy: 0.9500\n",
      "Epoch 74/200\n",
      "3/3 [==============================] - 0s 3ms/step - loss: 0.3094 - accuracy: 0.9500\n",
      "Epoch 75/200\n",
      "3/3 [==============================] - 0s 4ms/step - loss: 0.3091 - accuracy: 0.9500\n",
      "Epoch 76/200\n",
      "3/3 [==============================] - 0s 3ms/step - loss: 0.3088 - accuracy: 0.9500\n",
      "Epoch 77/200\n",
      "3/3 [==============================] - 0s 5ms/step - loss: 0.3084 - accuracy: 0.9500\n",
      "Epoch 78/200\n",
      "3/3 [==============================] - 0s 4ms/step - loss: 0.3081 - accuracy: 0.9500\n",
      "Epoch 79/200\n",
      "3/3 [==============================] - 0s 3ms/step - loss: 0.3078 - accuracy: 0.9500\n",
      "Epoch 80/200\n",
      "3/3 [==============================] - 0s 3ms/step - loss: 0.3074 - accuracy: 0.9500\n",
      "Epoch 81/200\n",
      "3/3 [==============================] - 0s 4ms/step - loss: 0.3071 - accuracy: 0.9500\n",
      "Epoch 82/200\n",
      "3/3 [==============================] - 0s 3ms/step - loss: 0.3068 - accuracy: 0.9500\n",
      "Epoch 83/200\n",
      "3/3 [==============================] - 0s 4ms/step - loss: 0.3065 - accuracy: 0.9500\n",
      "Epoch 84/200\n",
      "3/3 [==============================] - 0s 4ms/step - loss: 0.3061 - accuracy: 0.9500\n",
      "Epoch 85/200\n",
      "3/3 [==============================] - 0s 4ms/step - loss: 0.3058 - accuracy: 0.9500\n",
      "Epoch 86/200\n",
      "3/3 [==============================] - 0s 4ms/step - loss: 0.3055 - accuracy: 0.9500\n",
      "Epoch 87/200\n",
      "3/3 [==============================] - 0s 5ms/step - loss: 0.3051 - accuracy: 0.9500\n",
      "Epoch 88/200\n",
      "3/3 [==============================] - 0s 4ms/step - loss: 0.3048 - accuracy: 0.9500\n",
      "Epoch 89/200\n",
      "3/3 [==============================] - 0s 3ms/step - loss: 0.3045 - accuracy: 0.9500\n",
      "Epoch 90/200\n",
      "3/3 [==============================] - 0s 4ms/step - loss: 0.3042 - accuracy: 0.9500\n",
      "Epoch 91/200\n",
      "3/3 [==============================] - 0s 4ms/step - loss: 0.3039 - accuracy: 0.9500\n",
      "Epoch 92/200\n",
      "3/3 [==============================] - 0s 4ms/step - loss: 0.3035 - accuracy: 0.9500\n",
      "Epoch 93/200\n",
      "3/3 [==============================] - 0s 6ms/step - loss: 0.3032 - accuracy: 0.9500\n",
      "Epoch 94/200\n",
      "3/3 [==============================] - 0s 6ms/step - loss: 0.3029 - accuracy: 0.9500\n",
      "Epoch 95/200\n",
      "3/3 [==============================] - 0s 4ms/step - loss: 0.3026 - accuracy: 0.9500\n",
      "Epoch 96/200\n",
      "3/3 [==============================] - 0s 6ms/step - loss: 0.3023 - accuracy: 0.9500\n",
      "Epoch 97/200\n",
      "3/3 [==============================] - 0s 5ms/step - loss: 0.3019 - accuracy: 0.9500\n",
      "Epoch 98/200\n",
      "3/3 [==============================] - 0s 5ms/step - loss: 0.3016 - accuracy: 0.9500\n",
      "Epoch 99/200\n",
      "3/3 [==============================] - 0s 5ms/step - loss: 0.3013 - accuracy: 0.9500\n",
      "Epoch 100/200\n",
      "3/3 [==============================] - 0s 5ms/step - loss: 0.3010 - accuracy: 0.9500\n",
      "Epoch 101/200\n",
      "3/3 [==============================] - 0s 4ms/step - loss: 0.3007 - accuracy: 0.9500\n",
      "Epoch 102/200\n",
      "3/3 [==============================] - 0s 4ms/step - loss: 0.3003 - accuracy: 0.9500\n",
      "Epoch 103/200\n",
      "3/3 [==============================] - 0s 4ms/step - loss: 0.3000 - accuracy: 0.9500\n",
      "Epoch 104/200\n",
      "3/3 [==============================] - 0s 4ms/step - loss: 0.2997 - accuracy: 0.9500\n",
      "Epoch 105/200\n",
      "3/3 [==============================] - 0s 5ms/step - loss: 0.2994 - accuracy: 0.9500\n",
      "Epoch 106/200\n",
      "3/3 [==============================] - 0s 4ms/step - loss: 0.2991 - accuracy: 0.9500\n",
      "Epoch 107/200\n",
      "3/3 [==============================] - 0s 3ms/step - loss: 0.2988 - accuracy: 0.9500\n",
      "Epoch 108/200\n",
      "3/3 [==============================] - 0s 3ms/step - loss: 0.2984 - accuracy: 0.9500\n",
      "Epoch 109/200\n",
      "3/3 [==============================] - 0s 3ms/step - loss: 0.2981 - accuracy: 0.9500\n",
      "Epoch 110/200\n",
      "3/3 [==============================] - 0s 3ms/step - loss: 0.2978 - accuracy: 0.9500\n",
      "Epoch 111/200\n",
      "3/3 [==============================] - 0s 3ms/step - loss: 0.2975 - accuracy: 0.9500\n",
      "Epoch 112/200\n",
      "3/3 [==============================] - 0s 3ms/step - loss: 0.2972 - accuracy: 0.9500\n",
      "Epoch 113/200\n",
      "3/3 [==============================] - 0s 3ms/step - loss: 0.2969 - accuracy: 0.9500\n",
      "Epoch 114/200\n",
      "3/3 [==============================] - 0s 2ms/step - loss: 0.2966 - accuracy: 0.9500\n",
      "Epoch 115/200\n",
      "3/3 [==============================] - 0s 4ms/step - loss: 0.2963 - accuracy: 0.9500\n",
      "Epoch 116/200\n",
      "3/3 [==============================] - 0s 3ms/step - loss: 0.2960 - accuracy: 0.9500\n",
      "Epoch 117/200\n",
      "3/3 [==============================] - 0s 4ms/step - loss: 0.2957 - accuracy: 0.9500\n",
      "Epoch 118/200\n",
      "3/3 [==============================] - 0s 2ms/step - loss: 0.2954 - accuracy: 0.9500\n",
      "Epoch 119/200\n",
      "3/3 [==============================] - 0s 4ms/step - loss: 0.2950 - accuracy: 0.9500\n",
      "Epoch 120/200\n",
      "3/3 [==============================] - 0s 3ms/step - loss: 0.2947 - accuracy: 0.9500\n",
      "Epoch 121/200\n",
      "3/3 [==============================] - 0s 3ms/step - loss: 0.2944 - accuracy: 0.9500\n",
      "Epoch 122/200\n",
      "3/3 [==============================] - 0s 2ms/step - loss: 0.2942 - accuracy: 0.9500\n",
      "Epoch 123/200\n",
      "3/3 [==============================] - 0s 3ms/step - loss: 0.2939 - accuracy: 0.9500\n",
      "Epoch 124/200\n",
      "3/3 [==============================] - 0s 4ms/step - loss: 0.2936 - accuracy: 0.9500\n",
      "Epoch 125/200\n",
      "3/3 [==============================] - 0s 2ms/step - loss: 0.2932 - accuracy: 0.9500\n",
      "Epoch 126/200\n",
      "3/3 [==============================] - 0s 3ms/step - loss: 0.2929 - accuracy: 0.9500\n",
      "Epoch 127/200\n",
      "3/3 [==============================] - 0s 3ms/step - loss: 0.2926 - accuracy: 0.9500\n",
      "Epoch 128/200\n",
      "3/3 [==============================] - 0s 1ms/step - loss: 0.2923 - accuracy: 0.9500\n",
      "Epoch 129/200\n",
      "3/3 [==============================] - 0s 3ms/step - loss: 0.2920 - accuracy: 0.9500\n",
      "Epoch 130/200\n",
      "3/3 [==============================] - 0s 3ms/step - loss: 0.2917 - accuracy: 0.9500\n",
      "Epoch 131/200\n",
      "3/3 [==============================] - 0s 2ms/step - loss: 0.2914 - accuracy: 0.9500\n",
      "Epoch 132/200\n",
      "3/3 [==============================] - 0s 3ms/step - loss: 0.2910 - accuracy: 0.9500\n",
      "Epoch 133/200\n",
      "3/3 [==============================] - 0s 3ms/step - loss: 0.2907 - accuracy: 0.9500\n",
      "Epoch 134/200\n",
      "3/3 [==============================] - 0s 3ms/step - loss: 0.2904 - accuracy: 0.9500\n",
      "Epoch 135/200\n",
      "3/3 [==============================] - 0s 3ms/step - loss: 0.2901 - accuracy: 0.9500\n",
      "Epoch 136/200\n",
      "3/3 [==============================] - 0s 2ms/step - loss: 0.2898 - accuracy: 0.9500\n",
      "Epoch 137/200\n",
      "3/3 [==============================] - 0s 3ms/step - loss: 0.2894 - accuracy: 0.9500\n",
      "Epoch 138/200\n",
      "3/3 [==============================] - 0s 3ms/step - loss: 0.2891 - accuracy: 0.9500\n",
      "Epoch 139/200\n",
      "3/3 [==============================] - 0s 3ms/step - loss: 0.2888 - accuracy: 0.9500\n",
      "Epoch 140/200\n",
      "3/3 [==============================] - 0s 3ms/step - loss: 0.2885 - accuracy: 0.9500\n",
      "Epoch 141/200\n",
      "3/3 [==============================] - 0s 4ms/step - loss: 0.2882 - accuracy: 0.9500\n",
      "Epoch 142/200\n",
      "3/3 [==============================] - 0s 4ms/step - loss: 0.2879 - accuracy: 0.9500\n",
      "Epoch 143/200\n",
      "3/3 [==============================] - 0s 2ms/step - loss: 0.2876 - accuracy: 0.9500\n",
      "Epoch 144/200\n",
      "3/3 [==============================] - 0s 4ms/step - loss: 0.2873 - accuracy: 0.9500\n",
      "Epoch 145/200\n",
      "3/3 [==============================] - 0s 3ms/step - loss: 0.2870 - accuracy: 0.9500\n",
      "Epoch 146/200\n",
      "3/3 [==============================] - 0s 3ms/step - loss: 0.2866 - accuracy: 0.9500\n",
      "Epoch 147/200\n",
      "3/3 [==============================] - 0s 3ms/step - loss: 0.2864 - accuracy: 0.9500\n",
      "Epoch 148/200\n",
      "3/3 [==============================] - 0s 3ms/step - loss: 0.2861 - accuracy: 0.9500\n",
      "Epoch 149/200\n",
      "3/3 [==============================] - 0s 4ms/step - loss: 0.2858 - accuracy: 0.9500\n",
      "Epoch 150/200\n",
      "3/3 [==============================] - 0s 4ms/step - loss: 0.2854 - accuracy: 0.9500\n",
      "Epoch 151/200\n",
      "3/3 [==============================] - 0s 2ms/step - loss: 0.2851 - accuracy: 0.9500\n",
      "Epoch 152/200\n",
      "3/3 [==============================] - 0s 2ms/step - loss: 0.2849 - accuracy: 0.9500\n",
      "Epoch 153/200\n",
      "3/3 [==============================] - 0s 2ms/step - loss: 0.2845 - accuracy: 0.9500\n",
      "Epoch 154/200\n",
      "3/3 [==============================] - 0s 3ms/step - loss: 0.2843 - accuracy: 0.9500\n",
      "Epoch 155/200\n",
      "3/3 [==============================] - 0s 2ms/step - loss: 0.2840 - accuracy: 0.9500\n",
      "Epoch 156/200\n",
      "3/3 [==============================] - 0s 3ms/step - loss: 0.2837 - accuracy: 0.9500\n",
      "Epoch 157/200\n",
      "3/3 [==============================] - 0s 3ms/step - loss: 0.2834 - accuracy: 0.9500\n",
      "Epoch 158/200\n",
      "3/3 [==============================] - 0s 3ms/step - loss: 0.2831 - accuracy: 0.9500\n",
      "Epoch 159/200\n",
      "3/3 [==============================] - 0s 4ms/step - loss: 0.2827 - accuracy: 0.9500\n",
      "Epoch 160/200\n",
      "3/3 [==============================] - 0s 4ms/step - loss: 0.2825 - accuracy: 0.9500\n",
      "Epoch 161/200\n",
      "3/3 [==============================] - 0s 4ms/step - loss: 0.2821 - accuracy: 0.9500\n",
      "Epoch 162/200\n",
      "3/3 [==============================] - 0s 3ms/step - loss: 0.2819 - accuracy: 0.9500\n",
      "Epoch 163/200\n",
      "3/3 [==============================] - 0s 3ms/step - loss: 0.2816 - accuracy: 0.9500\n",
      "Epoch 164/200\n",
      "3/3 [==============================] - 0s 3ms/step - loss: 0.2813 - accuracy: 0.9500\n",
      "Epoch 165/200\n",
      "3/3 [==============================] - 0s 3ms/step - loss: 0.2810 - accuracy: 0.9500\n",
      "Epoch 166/200\n",
      "3/3 [==============================] - 0s 4ms/step - loss: 0.2807 - accuracy: 0.9500\n",
      "Epoch 167/200\n",
      "3/3 [==============================] - 0s 3ms/step - loss: 0.2804 - accuracy: 0.9500\n",
      "Epoch 168/200\n",
      "3/3 [==============================] - 0s 3ms/step - loss: 0.2801 - accuracy: 0.9500\n",
      "Epoch 169/200\n",
      "3/3 [==============================] - 0s 4ms/step - loss: 0.2799 - accuracy: 0.9500\n",
      "Epoch 170/200\n",
      "3/3 [==============================] - 0s 3ms/step - loss: 0.2796 - accuracy: 0.9500\n",
      "Epoch 171/200\n",
      "3/3 [==============================] - 0s 3ms/step - loss: 0.2793 - accuracy: 0.9500\n",
      "Epoch 172/200\n",
      "3/3 [==============================] - 0s 3ms/step - loss: 0.2790 - accuracy: 0.9500\n",
      "Epoch 173/200\n",
      "3/3 [==============================] - 0s 3ms/step - loss: 0.2787 - accuracy: 0.9500\n",
      "Epoch 174/200\n",
      "3/3 [==============================] - 0s 3ms/step - loss: 0.2784 - accuracy: 0.9500\n",
      "Epoch 175/200\n",
      "3/3 [==============================] - 0s 4ms/step - loss: 0.2781 - accuracy: 0.9500\n",
      "Epoch 176/200\n",
      "3/3 [==============================] - 0s 3ms/step - loss: 0.2779 - accuracy: 0.9500\n",
      "Epoch 177/200\n",
      "3/3 [==============================] - 0s 3ms/step - loss: 0.2776 - accuracy: 0.9500\n",
      "Epoch 178/200\n",
      "3/3 [==============================] - 0s 3ms/step - loss: 0.2773 - accuracy: 0.9500\n",
      "Epoch 179/200\n",
      "3/3 [==============================] - 0s 3ms/step - loss: 0.2770 - accuracy: 0.9500\n",
      "Epoch 180/200\n",
      "3/3 [==============================] - 0s 3ms/step - loss: 0.2768 - accuracy: 0.9500\n",
      "Epoch 181/200\n",
      "3/3 [==============================] - 0s 4ms/step - loss: 0.2765 - accuracy: 0.9500\n",
      "Epoch 182/200\n",
      "3/3 [==============================] - 0s 4ms/step - loss: 0.2762 - accuracy: 0.9500\n",
      "Epoch 183/200\n",
      "3/3 [==============================] - 0s 3ms/step - loss: 0.2759 - accuracy: 0.9500\n",
      "Epoch 184/200\n",
      "3/3 [==============================] - 0s 3ms/step - loss: 0.2757 - accuracy: 0.9500\n",
      "Epoch 185/200\n",
      "3/3 [==============================] - 0s 3ms/step - loss: 0.2754 - accuracy: 0.9500\n",
      "Epoch 186/200\n",
      "3/3 [==============================] - 0s 4ms/step - loss: 0.2751 - accuracy: 0.9500\n",
      "Epoch 187/200\n",
      "3/3 [==============================] - 0s 3ms/step - loss: 0.2748 - accuracy: 0.9500\n",
      "Epoch 188/200\n",
      "3/3 [==============================] - 0s 3ms/step - loss: 0.2746 - accuracy: 0.9500\n",
      "Epoch 189/200\n",
      "3/3 [==============================] - 0s 3ms/step - loss: 0.2743 - accuracy: 0.9500\n",
      "Epoch 190/200\n",
      "3/3 [==============================] - 0s 4ms/step - loss: 0.2740 - accuracy: 0.9500\n",
      "Epoch 191/200\n",
      "3/3 [==============================] - 0s 3ms/step - loss: 0.2738 - accuracy: 0.9500\n",
      "Epoch 192/200\n",
      "3/3 [==============================] - 0s 3ms/step - loss: 0.2735 - accuracy: 0.9500\n",
      "Epoch 193/200\n",
      "3/3 [==============================] - 0s 3ms/step - loss: 0.2732 - accuracy: 0.9500\n",
      "Epoch 194/200\n",
      "3/3 [==============================] - 0s 3ms/step - loss: 0.2730 - accuracy: 0.9500\n",
      "Epoch 195/200\n",
      "3/3 [==============================] - 0s 3ms/step - loss: 0.2727 - accuracy: 0.9500\n",
      "Epoch 196/200\n",
      "3/3 [==============================] - 0s 3ms/step - loss: 0.2724 - accuracy: 0.9500\n",
      "Epoch 197/200\n",
      "3/3 [==============================] - 0s 3ms/step - loss: 0.2722 - accuracy: 0.9500\n",
      "Epoch 198/200\n",
      "3/3 [==============================] - 0s 3ms/step - loss: 0.2719 - accuracy: 0.9500\n",
      "Epoch 199/200\n",
      "3/3 [==============================] - 0s 3ms/step - loss: 0.2716 - accuracy: 0.9500\n",
      "Epoch 200/200\n",
      "3/3 [==============================] - 0s 3ms/step - loss: 0.2714 - accuracy: 0.9500\n"
     ]
    },
    {
     "data": {
      "text/plain": [
       "<keras.src.callbacks.History at 0x1f954c95190>"
      ]
     },
     "execution_count": 57,
     "metadata": {},
     "output_type": "execute_result"
    }
   ],
   "source": [
    "model.fit(x_train,y_train,epochs=200)"
   ]
  },
  {
   "cell_type": "code",
   "execution_count": 58,
   "id": "69873a4b",
   "metadata": {},
   "outputs": [
    {
     "name": "stdout",
     "output_type": "stream",
     "text": [
      "1/1 [==============================] - 0s 22ms/step - loss: 0.2989 - accuracy: 0.9524\n"
     ]
    },
    {
     "data": {
      "text/plain": [
       "[0.29886746406555176, 0.9523809552192688]"
      ]
     },
     "execution_count": 58,
     "metadata": {},
     "output_type": "execute_result"
    }
   ],
   "source": [
    "model.evaluate(x_test,y_test)"
   ]
  },
  {
   "cell_type": "code",
   "execution_count": 60,
   "id": "b7bbc3ba",
   "metadata": {
    "collapsed": true
   },
   "outputs": [
    {
     "name": "stdout",
     "output_type": "stream",
     "text": [
      "1/1 [==============================] - 0s 18ms/step\n"
     ]
    },
    {
     "data": {
      "text/plain": [
       "array([[0.18826571],\n",
       "       [0.20872557],\n",
       "       [0.18826571],\n",
       "       [0.2538246 ],\n",
       "       [0.18826571],\n",
       "       [0.24593192],\n",
       "       [0.20962961],\n",
       "       [0.25421736],\n",
       "       [0.18826571],\n",
       "       [0.18826571],\n",
       "       [0.18826571],\n",
       "       [0.18826571],\n",
       "       [0.18826571],\n",
       "       [0.18826571],\n",
       "       [0.18826571],\n",
       "       [0.18826571],\n",
       "       [0.18826571],\n",
       "       [0.25989074],\n",
       "       [0.20846877],\n",
       "       [0.20612799],\n",
       "       [0.18826571]], dtype=float32)"
      ]
     },
     "execution_count": 60,
     "metadata": {},
     "output_type": "execute_result"
    }
   ],
   "source": [
    "y_pred=model.predict(x_test)\n",
    "y_pred"
   ]
  },
  {
   "cell_type": "code",
   "execution_count": 61,
   "id": "33ba5dfe",
   "metadata": {},
   "outputs": [],
   "source": [
    "prediction=[]\n",
    "for d in y_pred:\n",
    "    if d>0.5:\n",
    "        prediction.append(1)\n",
    "    else:\n",
    "        prediction.append(0)"
   ]
  },
  {
   "cell_type": "code",
   "execution_count": 62,
   "id": "0935fbac",
   "metadata": {},
   "outputs": [
    {
     "data": {
      "text/plain": [
       "[0, 0, 0, 0, 0, 0, 0, 0, 0, 0, 0, 0, 0, 0, 0, 0, 0, 0, 0, 0, 0]"
      ]
     },
     "execution_count": 62,
     "metadata": {},
     "output_type": "execute_result"
    }
   ],
   "source": [
    "prediction"
   ]
  },
  {
   "cell_type": "code",
   "execution_count": 63,
   "id": "a6550f75",
   "metadata": {},
   "outputs": [
    {
     "data": {
      "text/html": [
       "<div>\n",
       "<style scoped>\n",
       "    .dataframe tbody tr th:only-of-type {\n",
       "        vertical-align: middle;\n",
       "    }\n",
       "\n",
       "    .dataframe tbody tr th {\n",
       "        vertical-align: top;\n",
       "    }\n",
       "\n",
       "    .dataframe thead th {\n",
       "        text-align: right;\n",
       "    }\n",
       "</style>\n",
       "<table border=\"1\" class=\"dataframe\">\n",
       "  <thead>\n",
       "    <tr style=\"text-align: right;\">\n",
       "      <th></th>\n",
       "      <th>Did you seek any specialist for a treatment?</th>\n",
       "    </tr>\n",
       "  </thead>\n",
       "  <tbody>\n",
       "    <tr>\n",
       "      <th>90</th>\n",
       "      <td>0</td>\n",
       "    </tr>\n",
       "    <tr>\n",
       "      <th>62</th>\n",
       "      <td>0</td>\n",
       "    </tr>\n",
       "    <tr>\n",
       "      <th>23</th>\n",
       "      <td>0</td>\n",
       "    </tr>\n",
       "    <tr>\n",
       "      <th>78</th>\n",
       "      <td>0</td>\n",
       "    </tr>\n",
       "    <tr>\n",
       "      <th>56</th>\n",
       "      <td>0</td>\n",
       "    </tr>\n",
       "    <tr>\n",
       "      <th>34</th>\n",
       "      <td>0</td>\n",
       "    </tr>\n",
       "    <tr>\n",
       "      <th>75</th>\n",
       "      <td>0</td>\n",
       "    </tr>\n",
       "    <tr>\n",
       "      <th>37</th>\n",
       "      <td>0</td>\n",
       "    </tr>\n",
       "    <tr>\n",
       "      <th>55</th>\n",
       "      <td>0</td>\n",
       "    </tr>\n",
       "    <tr>\n",
       "      <th>40</th>\n",
       "      <td>0</td>\n",
       "    </tr>\n",
       "    <tr>\n",
       "      <th>33</th>\n",
       "      <td>1</td>\n",
       "    </tr>\n",
       "    <tr>\n",
       "      <th>1</th>\n",
       "      <td>0</td>\n",
       "    </tr>\n",
       "    <tr>\n",
       "      <th>73</th>\n",
       "      <td>0</td>\n",
       "    </tr>\n",
       "    <tr>\n",
       "      <th>81</th>\n",
       "      <td>0</td>\n",
       "    </tr>\n",
       "    <tr>\n",
       "      <th>71</th>\n",
       "      <td>0</td>\n",
       "    </tr>\n",
       "    <tr>\n",
       "      <th>5</th>\n",
       "      <td>0</td>\n",
       "    </tr>\n",
       "    <tr>\n",
       "      <th>24</th>\n",
       "      <td>0</td>\n",
       "    </tr>\n",
       "    <tr>\n",
       "      <th>94</th>\n",
       "      <td>0</td>\n",
       "    </tr>\n",
       "    <tr>\n",
       "      <th>93</th>\n",
       "      <td>0</td>\n",
       "    </tr>\n",
       "    <tr>\n",
       "      <th>65</th>\n",
       "      <td>0</td>\n",
       "    </tr>\n",
       "    <tr>\n",
       "      <th>25</th>\n",
       "      <td>0</td>\n",
       "    </tr>\n",
       "  </tbody>\n",
       "</table>\n",
       "</div>"
      ],
      "text/plain": [
       "    Did you seek any specialist for a treatment?\n",
       "90                                             0\n",
       "62                                             0\n",
       "23                                             0\n",
       "78                                             0\n",
       "56                                             0\n",
       "34                                             0\n",
       "75                                             0\n",
       "37                                             0\n",
       "55                                             0\n",
       "40                                             0\n",
       "33                                             1\n",
       "1                                              0\n",
       "73                                             0\n",
       "81                                             0\n",
       "71                                             0\n",
       "5                                              0\n",
       "24                                             0\n",
       "94                                             0\n",
       "93                                             0\n",
       "65                                             0\n",
       "25                                             0"
      ]
     },
     "execution_count": 63,
     "metadata": {},
     "output_type": "execute_result"
    }
   ],
   "source": [
    "y_test"
   ]
  },
  {
   "cell_type": "code",
   "execution_count": 64,
   "id": "a0981e3d",
   "metadata": {},
   "outputs": [
    {
     "data": {
      "text/plain": [
       "0    95\n",
       "1     6\n",
       "Name: Did you seek any specialist for a treatment?, dtype: int64"
      ]
     },
     "execution_count": 64,
     "metadata": {},
     "output_type": "execute_result"
    }
   ],
   "source": [
    "data['Did you seek any specialist for a treatment?'].value_counts()"
   ]
  },
  {
   "cell_type": "code",
   "execution_count": null,
   "id": "1a619ec1",
   "metadata": {},
   "outputs": [],
   "source": []
  }
 ],
 "metadata": {
  "kernelspec": {
   "display_name": "Python 3 (ipykernel)",
   "language": "python",
   "name": "python3"
  },
  "language_info": {
   "codemirror_mode": {
    "name": "ipython",
    "version": 3
   },
   "file_extension": ".py",
   "mimetype": "text/x-python",
   "name": "python",
   "nbconvert_exporter": "python",
   "pygments_lexer": "ipython3",
   "version": "3.11.3"
  }
 },
 "nbformat": 4,
 "nbformat_minor": 5
}
